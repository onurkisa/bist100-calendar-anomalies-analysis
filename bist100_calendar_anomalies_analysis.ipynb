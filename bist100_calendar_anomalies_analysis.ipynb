{
  "nbformat": 4,
  "nbformat_minor": 0,
  "metadata": {
    "colab": {
      "provenance": [],
      "collapsed_sections": [
        "luf297iC0kPx",
        "janFBoHbsqDk",
        "2DyEORaj4f0O"
      ]
    },
    "kernelspec": {
      "name": "python3",
      "display_name": "Python 3"
    },
    "language_info": {
      "name": "python"
    }
  },
  "cells": [
    {
      "cell_type": "markdown",
      "source": [
        "# **Analysis of Calendar Anomalies in the BIST100 Index in 2015-2025**"
      ],
      "metadata": {
        "id": "UT5WcnaRWjl6"
      }
    },
    {
      "cell_type": "markdown",
      "source": [
        "## Introduction\n",
        "\n",
        "This notebook examines calendar anomalies in the Turkish stock market through rigorous statistical analysis of the BIST100 index. calendar anomalies are systematic, calendar-based return patterns that challenge the Efficient Market Hypothesis by suggesting predictable deviations from market efficiency.\n",
        "\n",
        "Using over a decade of data (January 2015 - September 2025), this study tests for two key anomalies: day-of-the-week effects and month-of-the-year effects. The analysis determines whether BIST100 returns exhibit statistically significant temporal variations, providing empirical evidence on market efficiency in emerging markets.\n",
        "\n",
        "Workflow is following:\n",
        "- compute log returns,\n",
        "- check assumptions,\n",
        "- apply Welch ANOVA for weekdays when variances are unequal, and\n",
        "- apply one-way ANOVA for months. Detailed statistics appear in code outputs and 'test_result.md'.\n"
      ],
      "metadata": {
        "id": "HNFaEvqsYA7D"
      }
    },
    {
      "cell_type": "code",
      "source": [
        "import pandas as pd\n",
        "import numpy as np\n",
        "import matplotlib.pyplot as plt\n",
        "import seaborn as sns\n",
        "import scipy.stats as stats\n",
        "import pingouin as pg\n",
        "import scikit_posthocs as sp"
      ],
      "metadata": {
        "id": "pL3FakIyrMOP"
      },
      "execution_count": 4,
      "outputs": []
    },
    {
      "cell_type": "code",
      "source": [
        "df = pd.read_csv(\"/content/drive/MyDrive/projects/bist100.csv\")"
      ],
      "metadata": {
        "id": "uO4L9p_kruPe"
      },
      "execution_count": 5,
      "outputs": []
    },
    {
      "cell_type": "markdown",
      "source": [
        "### Dataset Overview\n",
        "- Index: BIST100\n",
        "- Period: January 2, 2015 to September 3, 2025\n",
        "- Source: Investing.com historical data (manually downloaded)\n",
        "- Variables: Date, Price, Open, High, Low, Volume, Change %"
      ],
      "metadata": {
        "id": "a5edBBE3Zf3n"
      }
    },
    {
      "cell_type": "markdown",
      "source": [
        "## Preprocessing"
      ],
      "metadata": {
        "id": "luf297iC0kPx"
      }
    },
    {
      "cell_type": "code",
      "source": [
        "df.info()"
      ],
      "metadata": {
        "colab": {
          "base_uri": "https://localhost:8080/"
        },
        "id": "o1ZXSQyfryGT",
        "outputId": "238501db-8eed-4e00-aff1-3c44e2783cfc"
      },
      "execution_count": 6,
      "outputs": [
        {
          "output_type": "stream",
          "name": "stdout",
          "text": [
            "<class 'pandas.core.frame.DataFrame'>\n",
            "RangeIndex: 2676 entries, 0 to 2675\n",
            "Data columns (total 7 columns):\n",
            " #   Column    Non-Null Count  Dtype \n",
            "---  ------    --------------  ----- \n",
            " 0   Date      2676 non-null   object\n",
            " 1   Price     2676 non-null   object\n",
            " 2   Open      2676 non-null   object\n",
            " 3   High      2676 non-null   object\n",
            " 4   Low       2676 non-null   object\n",
            " 5   Vol.      2675 non-null   object\n",
            " 6   Change %  2676 non-null   object\n",
            "dtypes: object(7)\n",
            "memory usage: 146.5+ KB\n"
          ]
        }
      ]
    },
    {
      "cell_type": "code",
      "source": [
        "df.head(1)"
      ],
      "metadata": {
        "colab": {
          "base_uri": "https://localhost:8080/",
          "height": 78
        },
        "id": "xhYz48inveGa",
        "outputId": "a602cd55-c38d-40f3-ac6c-02cc78d5bad7"
      },
      "execution_count": 7,
      "outputs": [
        {
          "output_type": "execute_result",
          "data": {
            "text/plain": [
              "         Date   Price    Open    High     Low     Vol. Change %\n",
              "0  01/02/2015  854.59  854.48  857.72  849.41  328.04M   -0.31%"
            ],
            "text/html": [
              "\n",
              "  <div id=\"df-0e43513f-b3ad-4226-9207-7289bf5932fb\" class=\"colab-df-container\">\n",
              "    <div>\n",
              "<style scoped>\n",
              "    .dataframe tbody tr th:only-of-type {\n",
              "        vertical-align: middle;\n",
              "    }\n",
              "\n",
              "    .dataframe tbody tr th {\n",
              "        vertical-align: top;\n",
              "    }\n",
              "\n",
              "    .dataframe thead th {\n",
              "        text-align: right;\n",
              "    }\n",
              "</style>\n",
              "<table border=\"1\" class=\"dataframe\">\n",
              "  <thead>\n",
              "    <tr style=\"text-align: right;\">\n",
              "      <th></th>\n",
              "      <th>Date</th>\n",
              "      <th>Price</th>\n",
              "      <th>Open</th>\n",
              "      <th>High</th>\n",
              "      <th>Low</th>\n",
              "      <th>Vol.</th>\n",
              "      <th>Change %</th>\n",
              "    </tr>\n",
              "  </thead>\n",
              "  <tbody>\n",
              "    <tr>\n",
              "      <th>0</th>\n",
              "      <td>01/02/2015</td>\n",
              "      <td>854.59</td>\n",
              "      <td>854.48</td>\n",
              "      <td>857.72</td>\n",
              "      <td>849.41</td>\n",
              "      <td>328.04M</td>\n",
              "      <td>-0.31%</td>\n",
              "    </tr>\n",
              "  </tbody>\n",
              "</table>\n",
              "</div>\n",
              "    <div class=\"colab-df-buttons\">\n",
              "\n",
              "  <div class=\"colab-df-container\">\n",
              "    <button class=\"colab-df-convert\" onclick=\"convertToInteractive('df-0e43513f-b3ad-4226-9207-7289bf5932fb')\"\n",
              "            title=\"Convert this dataframe to an interactive table.\"\n",
              "            style=\"display:none;\">\n",
              "\n",
              "  <svg xmlns=\"http://www.w3.org/2000/svg\" height=\"24px\" viewBox=\"0 -960 960 960\">\n",
              "    <path d=\"M120-120v-720h720v720H120Zm60-500h600v-160H180v160Zm220 220h160v-160H400v160Zm0 220h160v-160H400v160ZM180-400h160v-160H180v160Zm440 0h160v-160H620v160ZM180-180h160v-160H180v160Zm440 0h160v-160H620v160Z\"/>\n",
              "  </svg>\n",
              "    </button>\n",
              "\n",
              "  <style>\n",
              "    .colab-df-container {\n",
              "      display:flex;\n",
              "      gap: 12px;\n",
              "    }\n",
              "\n",
              "    .colab-df-convert {\n",
              "      background-color: #E8F0FE;\n",
              "      border: none;\n",
              "      border-radius: 50%;\n",
              "      cursor: pointer;\n",
              "      display: none;\n",
              "      fill: #1967D2;\n",
              "      height: 32px;\n",
              "      padding: 0 0 0 0;\n",
              "      width: 32px;\n",
              "    }\n",
              "\n",
              "    .colab-df-convert:hover {\n",
              "      background-color: #E2EBFA;\n",
              "      box-shadow: 0px 1px 2px rgba(60, 64, 67, 0.3), 0px 1px 3px 1px rgba(60, 64, 67, 0.15);\n",
              "      fill: #174EA6;\n",
              "    }\n",
              "\n",
              "    .colab-df-buttons div {\n",
              "      margin-bottom: 4px;\n",
              "    }\n",
              "\n",
              "    [theme=dark] .colab-df-convert {\n",
              "      background-color: #3B4455;\n",
              "      fill: #D2E3FC;\n",
              "    }\n",
              "\n",
              "    [theme=dark] .colab-df-convert:hover {\n",
              "      background-color: #434B5C;\n",
              "      box-shadow: 0px 1px 3px 1px rgba(0, 0, 0, 0.15);\n",
              "      filter: drop-shadow(0px 1px 2px rgba(0, 0, 0, 0.3));\n",
              "      fill: #FFFFFF;\n",
              "    }\n",
              "  </style>\n",
              "\n",
              "    <script>\n",
              "      const buttonEl =\n",
              "        document.querySelector('#df-0e43513f-b3ad-4226-9207-7289bf5932fb button.colab-df-convert');\n",
              "      buttonEl.style.display =\n",
              "        google.colab.kernel.accessAllowed ? 'block' : 'none';\n",
              "\n",
              "      async function convertToInteractive(key) {\n",
              "        const element = document.querySelector('#df-0e43513f-b3ad-4226-9207-7289bf5932fb');\n",
              "        const dataTable =\n",
              "          await google.colab.kernel.invokeFunction('convertToInteractive',\n",
              "                                                    [key], {});\n",
              "        if (!dataTable) return;\n",
              "\n",
              "        const docLinkHtml = 'Like what you see? Visit the ' +\n",
              "          '<a target=\"_blank\" href=https://colab.research.google.com/notebooks/data_table.ipynb>data table notebook</a>'\n",
              "          + ' to learn more about interactive tables.';\n",
              "        element.innerHTML = '';\n",
              "        dataTable['output_type'] = 'display_data';\n",
              "        await google.colab.output.renderOutput(dataTable, element);\n",
              "        const docLink = document.createElement('div');\n",
              "        docLink.innerHTML = docLinkHtml;\n",
              "        element.appendChild(docLink);\n",
              "      }\n",
              "    </script>\n",
              "  </div>\n",
              "\n",
              "\n",
              "    </div>\n",
              "  </div>\n"
            ],
            "application/vnd.google.colaboratory.intrinsic+json": {
              "type": "dataframe",
              "variable_name": "df",
              "summary": "{\n  \"name\": \"df\",\n  \"rows\": 2676,\n  \"fields\": [\n    {\n      \"column\": \"Date\",\n      \"properties\": {\n        \"dtype\": \"object\",\n        \"num_unique_values\": 2676,\n        \"samples\": [\n          \"09/28/2018\",\n          \"05/27/2024\",\n          \"10/07/2016\"\n        ],\n        \"semantic_type\": \"\",\n        \"description\": \"\"\n      }\n    },\n    {\n      \"column\": \"Price\",\n      \"properties\": {\n        \"dtype\": \"string\",\n        \"num_unique_values\": 2646,\n        \"samples\": [\n          \"1,363.28\",\n          \"967.73\",\n          \"711.98\"\n        ],\n        \"semantic_type\": \"\",\n        \"description\": \"\"\n      }\n    },\n    {\n      \"column\": \"Open\",\n      \"properties\": {\n        \"dtype\": \"string\",\n        \"num_unique_values\": 2649,\n        \"samples\": [\n          \"1,589.43\",\n          \"967.38\",\n          \"1,134.76\"\n        ],\n        \"semantic_type\": \"\",\n        \"description\": \"\"\n      }\n    },\n    {\n      \"column\": \"High\",\n      \"properties\": {\n        \"dtype\": \"string\",\n        \"num_unique_values\": 2642,\n        \"samples\": [\n          \"1,416.14\",\n          \"10,208.79\",\n          \"9,749.15\"\n        ],\n        \"semantic_type\": \"\",\n        \"description\": \"\"\n      }\n    },\n    {\n      \"column\": \"Low\",\n      \"properties\": {\n        \"dtype\": \"string\",\n        \"num_unique_values\": 2654,\n        \"samples\": [\n          \"1,029.34\",\n          \"814.85\",\n          \"1,147.43\"\n        ],\n        \"semantic_type\": \"\",\n        \"description\": \"\"\n      }\n    },\n    {\n      \"column\": \"Vol.\",\n      \"properties\": {\n        \"dtype\": \"category\",\n        \"num_unique_values\": 1303,\n        \"samples\": [\n          \"843.86M\",\n          \"8.66B\",\n          \"840.03M\"\n        ],\n        \"semantic_type\": \"\",\n        \"description\": \"\"\n      }\n    },\n    {\n      \"column\": \"Change %\",\n      \"properties\": {\n        \"dtype\": \"category\",\n        \"num_unique_values\": 654,\n        \"samples\": [\n          \"-0.10%\",\n          \"-2.36%\",\n          \"-9.79%\"\n        ],\n        \"semantic_type\": \"\",\n        \"description\": \"\"\n      }\n    }\n  ]\n}"
            }
          },
          "metadata": {},
          "execution_count": 7
        }
      ]
    },
    {
      "cell_type": "code",
      "source": [
        "numeric_columns = ['Price', 'Open', 'High', 'Low']\n",
        "for col in numeric_columns:\n",
        "    df[col] = df[col].str.replace(',', '').astype(float)"
      ],
      "metadata": {
        "id": "Crtv1qugIzMs"
      },
      "execution_count": 8,
      "outputs": []
    },
    {
      "cell_type": "code",
      "source": [
        "df['Change %'] = df['Change %'].str.replace('%', '').astype(float)"
      ],
      "metadata": {
        "id": "Xb8RpQMOJVAt"
      },
      "execution_count": 9,
      "outputs": []
    },
    {
      "cell_type": "code",
      "source": [
        "df['Date'] = pd.to_datetime(df['Date'])"
      ],
      "metadata": {
        "id": "cjCfKuZZtzcv"
      },
      "execution_count": 10,
      "outputs": []
    },
    {
      "cell_type": "code",
      "source": [
        "df['Day'] = df['Date'].dt.day_name()"
      ],
      "metadata": {
        "id": "FcQEo-EzuOyb"
      },
      "execution_count": 11,
      "outputs": []
    },
    {
      "cell_type": "code",
      "source": [
        "df.sort_values(by='Date', inplace=True)\n",
        "df.reset_index(drop=True, inplace=True)"
      ],
      "metadata": {
        "id": "nktCh-LSuTGI"
      },
      "execution_count": 12,
      "outputs": []
    },
    {
      "cell_type": "code",
      "source": [
        "#Continuous Compund Returns - daily\n",
        "df['Daily_Continuous_Return'] = np.log(df['Price'] / df['Price'].shift(1))"
      ],
      "metadata": {
        "id": "Do_nbOchugRq"
      },
      "execution_count": 13,
      "outputs": []
    },
    {
      "cell_type": "code",
      "source": [
        "monthly_closings = df.groupby(df['Date'].dt.to_period('M'), as_index=False)[['Date','Price']].last()\n"
      ],
      "metadata": {
        "id": "yxdxHZqjdHxC"
      },
      "execution_count": 14,
      "outputs": []
    },
    {
      "cell_type": "code",
      "source": [
        "monthly_closings['Month']=monthly_closings['Date'].dt.month_name()"
      ],
      "metadata": {
        "id": "bVN3IvFK06Fb"
      },
      "execution_count": 15,
      "outputs": []
    },
    {
      "cell_type": "code",
      "source": [
        "monthly_closings['Monthly_Continuous_Return'] = np.log(monthly_closings['Price'] / monthly_closings['Price'].shift(1))"
      ],
      "metadata": {
        "id": "gNeDBnPvufuL"
      },
      "execution_count": 16,
      "outputs": []
    },
    {
      "cell_type": "code",
      "source": [
        "monthly_closings.head(3)"
      ],
      "metadata": {
        "colab": {
          "base_uri": "https://localhost:8080/",
          "height": 140
        },
        "id": "5puh83B13c2w",
        "outputId": "54fe8d09-c85e-4a67-84a9-7596bb17a486"
      },
      "execution_count": 17,
      "outputs": [
        {
          "output_type": "execute_result",
          "data": {
            "text/plain": [
              "        Date   Price     Month  Monthly_Continuous_Return\n",
              "0 2015-01-30  889.46   January                        NaN\n",
              "1 2015-02-27  841.48  February                  -0.055452\n",
              "2 2015-03-31  808.46     March                  -0.040031"
            ],
            "text/html": [
              "\n",
              "  <div id=\"df-2c4beed7-6b85-4097-a577-17450d52809a\" class=\"colab-df-container\">\n",
              "    <div>\n",
              "<style scoped>\n",
              "    .dataframe tbody tr th:only-of-type {\n",
              "        vertical-align: middle;\n",
              "    }\n",
              "\n",
              "    .dataframe tbody tr th {\n",
              "        vertical-align: top;\n",
              "    }\n",
              "\n",
              "    .dataframe thead th {\n",
              "        text-align: right;\n",
              "    }\n",
              "</style>\n",
              "<table border=\"1\" class=\"dataframe\">\n",
              "  <thead>\n",
              "    <tr style=\"text-align: right;\">\n",
              "      <th></th>\n",
              "      <th>Date</th>\n",
              "      <th>Price</th>\n",
              "      <th>Month</th>\n",
              "      <th>Monthly_Continuous_Return</th>\n",
              "    </tr>\n",
              "  </thead>\n",
              "  <tbody>\n",
              "    <tr>\n",
              "      <th>0</th>\n",
              "      <td>2015-01-30</td>\n",
              "      <td>889.46</td>\n",
              "      <td>January</td>\n",
              "      <td>NaN</td>\n",
              "    </tr>\n",
              "    <tr>\n",
              "      <th>1</th>\n",
              "      <td>2015-02-27</td>\n",
              "      <td>841.48</td>\n",
              "      <td>February</td>\n",
              "      <td>-0.055452</td>\n",
              "    </tr>\n",
              "    <tr>\n",
              "      <th>2</th>\n",
              "      <td>2015-03-31</td>\n",
              "      <td>808.46</td>\n",
              "      <td>March</td>\n",
              "      <td>-0.040031</td>\n",
              "    </tr>\n",
              "  </tbody>\n",
              "</table>\n",
              "</div>\n",
              "    <div class=\"colab-df-buttons\">\n",
              "\n",
              "  <div class=\"colab-df-container\">\n",
              "    <button class=\"colab-df-convert\" onclick=\"convertToInteractive('df-2c4beed7-6b85-4097-a577-17450d52809a')\"\n",
              "            title=\"Convert this dataframe to an interactive table.\"\n",
              "            style=\"display:none;\">\n",
              "\n",
              "  <svg xmlns=\"http://www.w3.org/2000/svg\" height=\"24px\" viewBox=\"0 -960 960 960\">\n",
              "    <path d=\"M120-120v-720h720v720H120Zm60-500h600v-160H180v160Zm220 220h160v-160H400v160Zm0 220h160v-160H400v160ZM180-400h160v-160H180v160Zm440 0h160v-160H620v160ZM180-180h160v-160H180v160Zm440 0h160v-160H620v160Z\"/>\n",
              "  </svg>\n",
              "    </button>\n",
              "\n",
              "  <style>\n",
              "    .colab-df-container {\n",
              "      display:flex;\n",
              "      gap: 12px;\n",
              "    }\n",
              "\n",
              "    .colab-df-convert {\n",
              "      background-color: #E8F0FE;\n",
              "      border: none;\n",
              "      border-radius: 50%;\n",
              "      cursor: pointer;\n",
              "      display: none;\n",
              "      fill: #1967D2;\n",
              "      height: 32px;\n",
              "      padding: 0 0 0 0;\n",
              "      width: 32px;\n",
              "    }\n",
              "\n",
              "    .colab-df-convert:hover {\n",
              "      background-color: #E2EBFA;\n",
              "      box-shadow: 0px 1px 2px rgba(60, 64, 67, 0.3), 0px 1px 3px 1px rgba(60, 64, 67, 0.15);\n",
              "      fill: #174EA6;\n",
              "    }\n",
              "\n",
              "    .colab-df-buttons div {\n",
              "      margin-bottom: 4px;\n",
              "    }\n",
              "\n",
              "    [theme=dark] .colab-df-convert {\n",
              "      background-color: #3B4455;\n",
              "      fill: #D2E3FC;\n",
              "    }\n",
              "\n",
              "    [theme=dark] .colab-df-convert:hover {\n",
              "      background-color: #434B5C;\n",
              "      box-shadow: 0px 1px 3px 1px rgba(0, 0, 0, 0.15);\n",
              "      filter: drop-shadow(0px 1px 2px rgba(0, 0, 0, 0.3));\n",
              "      fill: #FFFFFF;\n",
              "    }\n",
              "  </style>\n",
              "\n",
              "    <script>\n",
              "      const buttonEl =\n",
              "        document.querySelector('#df-2c4beed7-6b85-4097-a577-17450d52809a button.colab-df-convert');\n",
              "      buttonEl.style.display =\n",
              "        google.colab.kernel.accessAllowed ? 'block' : 'none';\n",
              "\n",
              "      async function convertToInteractive(key) {\n",
              "        const element = document.querySelector('#df-2c4beed7-6b85-4097-a577-17450d52809a');\n",
              "        const dataTable =\n",
              "          await google.colab.kernel.invokeFunction('convertToInteractive',\n",
              "                                                    [key], {});\n",
              "        if (!dataTable) return;\n",
              "\n",
              "        const docLinkHtml = 'Like what you see? Visit the ' +\n",
              "          '<a target=\"_blank\" href=https://colab.research.google.com/notebooks/data_table.ipynb>data table notebook</a>'\n",
              "          + ' to learn more about interactive tables.';\n",
              "        element.innerHTML = '';\n",
              "        dataTable['output_type'] = 'display_data';\n",
              "        await google.colab.output.renderOutput(dataTable, element);\n",
              "        const docLink = document.createElement('div');\n",
              "        docLink.innerHTML = docLinkHtml;\n",
              "        element.appendChild(docLink);\n",
              "      }\n",
              "    </script>\n",
              "  </div>\n",
              "\n",
              "\n",
              "    <div id=\"df-78dc3f2f-7c6c-4ec7-a2b5-d27167d2da48\">\n",
              "      <button class=\"colab-df-quickchart\" onclick=\"quickchart('df-78dc3f2f-7c6c-4ec7-a2b5-d27167d2da48')\"\n",
              "                title=\"Suggest charts\"\n",
              "                style=\"display:none;\">\n",
              "\n",
              "<svg xmlns=\"http://www.w3.org/2000/svg\" height=\"24px\"viewBox=\"0 0 24 24\"\n",
              "     width=\"24px\">\n",
              "    <g>\n",
              "        <path d=\"M19 3H5c-1.1 0-2 .9-2 2v14c0 1.1.9 2 2 2h14c1.1 0 2-.9 2-2V5c0-1.1-.9-2-2-2zM9 17H7v-7h2v7zm4 0h-2V7h2v10zm4 0h-2v-4h2v4z\"/>\n",
              "    </g>\n",
              "</svg>\n",
              "      </button>\n",
              "\n",
              "<style>\n",
              "  .colab-df-quickchart {\n",
              "      --bg-color: #E8F0FE;\n",
              "      --fill-color: #1967D2;\n",
              "      --hover-bg-color: #E2EBFA;\n",
              "      --hover-fill-color: #174EA6;\n",
              "      --disabled-fill-color: #AAA;\n",
              "      --disabled-bg-color: #DDD;\n",
              "  }\n",
              "\n",
              "  [theme=dark] .colab-df-quickchart {\n",
              "      --bg-color: #3B4455;\n",
              "      --fill-color: #D2E3FC;\n",
              "      --hover-bg-color: #434B5C;\n",
              "      --hover-fill-color: #FFFFFF;\n",
              "      --disabled-bg-color: #3B4455;\n",
              "      --disabled-fill-color: #666;\n",
              "  }\n",
              "\n",
              "  .colab-df-quickchart {\n",
              "    background-color: var(--bg-color);\n",
              "    border: none;\n",
              "    border-radius: 50%;\n",
              "    cursor: pointer;\n",
              "    display: none;\n",
              "    fill: var(--fill-color);\n",
              "    height: 32px;\n",
              "    padding: 0;\n",
              "    width: 32px;\n",
              "  }\n",
              "\n",
              "  .colab-df-quickchart:hover {\n",
              "    background-color: var(--hover-bg-color);\n",
              "    box-shadow: 0 1px 2px rgba(60, 64, 67, 0.3), 0 1px 3px 1px rgba(60, 64, 67, 0.15);\n",
              "    fill: var(--button-hover-fill-color);\n",
              "  }\n",
              "\n",
              "  .colab-df-quickchart-complete:disabled,\n",
              "  .colab-df-quickchart-complete:disabled:hover {\n",
              "    background-color: var(--disabled-bg-color);\n",
              "    fill: var(--disabled-fill-color);\n",
              "    box-shadow: none;\n",
              "  }\n",
              "\n",
              "  .colab-df-spinner {\n",
              "    border: 2px solid var(--fill-color);\n",
              "    border-color: transparent;\n",
              "    border-bottom-color: var(--fill-color);\n",
              "    animation:\n",
              "      spin 1s steps(1) infinite;\n",
              "  }\n",
              "\n",
              "  @keyframes spin {\n",
              "    0% {\n",
              "      border-color: transparent;\n",
              "      border-bottom-color: var(--fill-color);\n",
              "      border-left-color: var(--fill-color);\n",
              "    }\n",
              "    20% {\n",
              "      border-color: transparent;\n",
              "      border-left-color: var(--fill-color);\n",
              "      border-top-color: var(--fill-color);\n",
              "    }\n",
              "    30% {\n",
              "      border-color: transparent;\n",
              "      border-left-color: var(--fill-color);\n",
              "      border-top-color: var(--fill-color);\n",
              "      border-right-color: var(--fill-color);\n",
              "    }\n",
              "    40% {\n",
              "      border-color: transparent;\n",
              "      border-right-color: var(--fill-color);\n",
              "      border-top-color: var(--fill-color);\n",
              "    }\n",
              "    60% {\n",
              "      border-color: transparent;\n",
              "      border-right-color: var(--fill-color);\n",
              "    }\n",
              "    80% {\n",
              "      border-color: transparent;\n",
              "      border-right-color: var(--fill-color);\n",
              "      border-bottom-color: var(--fill-color);\n",
              "    }\n",
              "    90% {\n",
              "      border-color: transparent;\n",
              "      border-bottom-color: var(--fill-color);\n",
              "    }\n",
              "  }\n",
              "</style>\n",
              "\n",
              "      <script>\n",
              "        async function quickchart(key) {\n",
              "          const quickchartButtonEl =\n",
              "            document.querySelector('#' + key + ' button');\n",
              "          quickchartButtonEl.disabled = true;  // To prevent multiple clicks.\n",
              "          quickchartButtonEl.classList.add('colab-df-spinner');\n",
              "          try {\n",
              "            const charts = await google.colab.kernel.invokeFunction(\n",
              "                'suggestCharts', [key], {});\n",
              "          } catch (error) {\n",
              "            console.error('Error during call to suggestCharts:', error);\n",
              "          }\n",
              "          quickchartButtonEl.classList.remove('colab-df-spinner');\n",
              "          quickchartButtonEl.classList.add('colab-df-quickchart-complete');\n",
              "        }\n",
              "        (() => {\n",
              "          let quickchartButtonEl =\n",
              "            document.querySelector('#df-78dc3f2f-7c6c-4ec7-a2b5-d27167d2da48 button');\n",
              "          quickchartButtonEl.style.display =\n",
              "            google.colab.kernel.accessAllowed ? 'block' : 'none';\n",
              "        })();\n",
              "      </script>\n",
              "    </div>\n",
              "\n",
              "    </div>\n",
              "  </div>\n"
            ],
            "application/vnd.google.colaboratory.intrinsic+json": {
              "type": "dataframe",
              "variable_name": "monthly_closings",
              "summary": "{\n  \"name\": \"monthly_closings\",\n  \"rows\": 129,\n  \"fields\": [\n    {\n      \"column\": \"Date\",\n      \"properties\": {\n        \"dtype\": \"date\",\n        \"min\": \"2015-01-30 00:00:00\",\n        \"max\": \"2025-09-03 00:00:00\",\n        \"num_unique_values\": 129,\n        \"samples\": [\n          \"2019-08-29 00:00:00\",\n          \"2018-05-31 00:00:00\",\n          \"2016-08-31 00:00:00\"\n        ],\n        \"semantic_type\": \"\",\n        \"description\": \"\"\n      }\n    },\n    {\n      \"column\": \"Price\",\n      \"properties\": {\n        \"dtype\": \"number\",\n        \"std\": 3417.148447587992,\n        \"min\": 717.27,\n        \"max\": 11288.05,\n        \"num_unique_values\": 128,\n        \"samples\": [\n          1050.33,\n          1006.52,\n          759.68\n        ],\n        \"semantic_type\": \"\",\n        \"description\": \"\"\n      }\n    },\n    {\n      \"column\": \"Month\",\n      \"properties\": {\n        \"dtype\": \"category\",\n        \"num_unique_values\": 12,\n        \"samples\": [\n          \"November\",\n          \"October\",\n          \"January\"\n        ],\n        \"semantic_type\": \"\",\n        \"description\": \"\"\n      }\n    },\n    {\n      \"column\": \"Monthly_Continuous_Return\",\n      \"properties\": {\n        \"dtype\": \"number\",\n        \"std\": 0.07528272827262568,\n        \"min\": -0.1675362178630863,\n        \"max\": 0.22565086272519636,\n        \"num_unique_values\": 128,\n        \"samples\": [\n          0.08247505864814486,\n          -0.04191878197108988,\n          0.006821666795942126\n        ],\n        \"semantic_type\": \"\",\n        \"description\": \"\"\n      }\n    }\n  ]\n}"
            }
          },
          "metadata": {},
          "execution_count": 17
        }
      ]
    },
    {
      "cell_type": "code",
      "source": [
        "df.head(3)"
      ],
      "metadata": {
        "colab": {
          "base_uri": "https://localhost:8080/",
          "height": 140
        },
        "id": "WHP95UH0GuAA",
        "outputId": "102da513-8dba-4c7d-d13c-7fa746e01c15"
      },
      "execution_count": 18,
      "outputs": [
        {
          "output_type": "execute_result",
          "data": {
            "text/plain": [
              "        Date   Price    Open    High     Low     Vol.  Change %      Day  \\\n",
              "0 2015-01-02  854.59  854.48  857.72  849.41  328.04M     -0.31   Friday   \n",
              "1 2015-01-05  864.63  854.95  867.96  854.11  644.59M      1.17   Monday   \n",
              "2 2015-01-06  869.10  866.51  869.12  855.75  698.32M      0.52  Tuesday   \n",
              "\n",
              "   Daily_Continuous_Return  \n",
              "0                      NaN  \n",
              "1                 0.011680  \n",
              "2                 0.005157  "
            ],
            "text/html": [
              "\n",
              "  <div id=\"df-8c8a0e11-4712-4ae2-a16d-e2203593cc4e\" class=\"colab-df-container\">\n",
              "    <div>\n",
              "<style scoped>\n",
              "    .dataframe tbody tr th:only-of-type {\n",
              "        vertical-align: middle;\n",
              "    }\n",
              "\n",
              "    .dataframe tbody tr th {\n",
              "        vertical-align: top;\n",
              "    }\n",
              "\n",
              "    .dataframe thead th {\n",
              "        text-align: right;\n",
              "    }\n",
              "</style>\n",
              "<table border=\"1\" class=\"dataframe\">\n",
              "  <thead>\n",
              "    <tr style=\"text-align: right;\">\n",
              "      <th></th>\n",
              "      <th>Date</th>\n",
              "      <th>Price</th>\n",
              "      <th>Open</th>\n",
              "      <th>High</th>\n",
              "      <th>Low</th>\n",
              "      <th>Vol.</th>\n",
              "      <th>Change %</th>\n",
              "      <th>Day</th>\n",
              "      <th>Daily_Continuous_Return</th>\n",
              "    </tr>\n",
              "  </thead>\n",
              "  <tbody>\n",
              "    <tr>\n",
              "      <th>0</th>\n",
              "      <td>2015-01-02</td>\n",
              "      <td>854.59</td>\n",
              "      <td>854.48</td>\n",
              "      <td>857.72</td>\n",
              "      <td>849.41</td>\n",
              "      <td>328.04M</td>\n",
              "      <td>-0.31</td>\n",
              "      <td>Friday</td>\n",
              "      <td>NaN</td>\n",
              "    </tr>\n",
              "    <tr>\n",
              "      <th>1</th>\n",
              "      <td>2015-01-05</td>\n",
              "      <td>864.63</td>\n",
              "      <td>854.95</td>\n",
              "      <td>867.96</td>\n",
              "      <td>854.11</td>\n",
              "      <td>644.59M</td>\n",
              "      <td>1.17</td>\n",
              "      <td>Monday</td>\n",
              "      <td>0.011680</td>\n",
              "    </tr>\n",
              "    <tr>\n",
              "      <th>2</th>\n",
              "      <td>2015-01-06</td>\n",
              "      <td>869.10</td>\n",
              "      <td>866.51</td>\n",
              "      <td>869.12</td>\n",
              "      <td>855.75</td>\n",
              "      <td>698.32M</td>\n",
              "      <td>0.52</td>\n",
              "      <td>Tuesday</td>\n",
              "      <td>0.005157</td>\n",
              "    </tr>\n",
              "  </tbody>\n",
              "</table>\n",
              "</div>\n",
              "    <div class=\"colab-df-buttons\">\n",
              "\n",
              "  <div class=\"colab-df-container\">\n",
              "    <button class=\"colab-df-convert\" onclick=\"convertToInteractive('df-8c8a0e11-4712-4ae2-a16d-e2203593cc4e')\"\n",
              "            title=\"Convert this dataframe to an interactive table.\"\n",
              "            style=\"display:none;\">\n",
              "\n",
              "  <svg xmlns=\"http://www.w3.org/2000/svg\" height=\"24px\" viewBox=\"0 -960 960 960\">\n",
              "    <path d=\"M120-120v-720h720v720H120Zm60-500h600v-160H180v160Zm220 220h160v-160H400v160Zm0 220h160v-160H400v160ZM180-400h160v-160H180v160Zm440 0h160v-160H620v160ZM180-180h160v-160H180v160Zm440 0h160v-160H620v160Z\"/>\n",
              "  </svg>\n",
              "    </button>\n",
              "\n",
              "  <style>\n",
              "    .colab-df-container {\n",
              "      display:flex;\n",
              "      gap: 12px;\n",
              "    }\n",
              "\n",
              "    .colab-df-convert {\n",
              "      background-color: #E8F0FE;\n",
              "      border: none;\n",
              "      border-radius: 50%;\n",
              "      cursor: pointer;\n",
              "      display: none;\n",
              "      fill: #1967D2;\n",
              "      height: 32px;\n",
              "      padding: 0 0 0 0;\n",
              "      width: 32px;\n",
              "    }\n",
              "\n",
              "    .colab-df-convert:hover {\n",
              "      background-color: #E2EBFA;\n",
              "      box-shadow: 0px 1px 2px rgba(60, 64, 67, 0.3), 0px 1px 3px 1px rgba(60, 64, 67, 0.15);\n",
              "      fill: #174EA6;\n",
              "    }\n",
              "\n",
              "    .colab-df-buttons div {\n",
              "      margin-bottom: 4px;\n",
              "    }\n",
              "\n",
              "    [theme=dark] .colab-df-convert {\n",
              "      background-color: #3B4455;\n",
              "      fill: #D2E3FC;\n",
              "    }\n",
              "\n",
              "    [theme=dark] .colab-df-convert:hover {\n",
              "      background-color: #434B5C;\n",
              "      box-shadow: 0px 1px 3px 1px rgba(0, 0, 0, 0.15);\n",
              "      filter: drop-shadow(0px 1px 2px rgba(0, 0, 0, 0.3));\n",
              "      fill: #FFFFFF;\n",
              "    }\n",
              "  </style>\n",
              "\n",
              "    <script>\n",
              "      const buttonEl =\n",
              "        document.querySelector('#df-8c8a0e11-4712-4ae2-a16d-e2203593cc4e button.colab-df-convert');\n",
              "      buttonEl.style.display =\n",
              "        google.colab.kernel.accessAllowed ? 'block' : 'none';\n",
              "\n",
              "      async function convertToInteractive(key) {\n",
              "        const element = document.querySelector('#df-8c8a0e11-4712-4ae2-a16d-e2203593cc4e');\n",
              "        const dataTable =\n",
              "          await google.colab.kernel.invokeFunction('convertToInteractive',\n",
              "                                                    [key], {});\n",
              "        if (!dataTable) return;\n",
              "\n",
              "        const docLinkHtml = 'Like what you see? Visit the ' +\n",
              "          '<a target=\"_blank\" href=https://colab.research.google.com/notebooks/data_table.ipynb>data table notebook</a>'\n",
              "          + ' to learn more about interactive tables.';\n",
              "        element.innerHTML = '';\n",
              "        dataTable['output_type'] = 'display_data';\n",
              "        await google.colab.output.renderOutput(dataTable, element);\n",
              "        const docLink = document.createElement('div');\n",
              "        docLink.innerHTML = docLinkHtml;\n",
              "        element.appendChild(docLink);\n",
              "      }\n",
              "    </script>\n",
              "  </div>\n",
              "\n",
              "\n",
              "    <div id=\"df-46b020d2-927d-426f-93b3-0cc888489820\">\n",
              "      <button class=\"colab-df-quickchart\" onclick=\"quickchart('df-46b020d2-927d-426f-93b3-0cc888489820')\"\n",
              "                title=\"Suggest charts\"\n",
              "                style=\"display:none;\">\n",
              "\n",
              "<svg xmlns=\"http://www.w3.org/2000/svg\" height=\"24px\"viewBox=\"0 0 24 24\"\n",
              "     width=\"24px\">\n",
              "    <g>\n",
              "        <path d=\"M19 3H5c-1.1 0-2 .9-2 2v14c0 1.1.9 2 2 2h14c1.1 0 2-.9 2-2V5c0-1.1-.9-2-2-2zM9 17H7v-7h2v7zm4 0h-2V7h2v10zm4 0h-2v-4h2v4z\"/>\n",
              "    </g>\n",
              "</svg>\n",
              "      </button>\n",
              "\n",
              "<style>\n",
              "  .colab-df-quickchart {\n",
              "      --bg-color: #E8F0FE;\n",
              "      --fill-color: #1967D2;\n",
              "      --hover-bg-color: #E2EBFA;\n",
              "      --hover-fill-color: #174EA6;\n",
              "      --disabled-fill-color: #AAA;\n",
              "      --disabled-bg-color: #DDD;\n",
              "  }\n",
              "\n",
              "  [theme=dark] .colab-df-quickchart {\n",
              "      --bg-color: #3B4455;\n",
              "      --fill-color: #D2E3FC;\n",
              "      --hover-bg-color: #434B5C;\n",
              "      --hover-fill-color: #FFFFFF;\n",
              "      --disabled-bg-color: #3B4455;\n",
              "      --disabled-fill-color: #666;\n",
              "  }\n",
              "\n",
              "  .colab-df-quickchart {\n",
              "    background-color: var(--bg-color);\n",
              "    border: none;\n",
              "    border-radius: 50%;\n",
              "    cursor: pointer;\n",
              "    display: none;\n",
              "    fill: var(--fill-color);\n",
              "    height: 32px;\n",
              "    padding: 0;\n",
              "    width: 32px;\n",
              "  }\n",
              "\n",
              "  .colab-df-quickchart:hover {\n",
              "    background-color: var(--hover-bg-color);\n",
              "    box-shadow: 0 1px 2px rgba(60, 64, 67, 0.3), 0 1px 3px 1px rgba(60, 64, 67, 0.15);\n",
              "    fill: var(--button-hover-fill-color);\n",
              "  }\n",
              "\n",
              "  .colab-df-quickchart-complete:disabled,\n",
              "  .colab-df-quickchart-complete:disabled:hover {\n",
              "    background-color: var(--disabled-bg-color);\n",
              "    fill: var(--disabled-fill-color);\n",
              "    box-shadow: none;\n",
              "  }\n",
              "\n",
              "  .colab-df-spinner {\n",
              "    border: 2px solid var(--fill-color);\n",
              "    border-color: transparent;\n",
              "    border-bottom-color: var(--fill-color);\n",
              "    animation:\n",
              "      spin 1s steps(1) infinite;\n",
              "  }\n",
              "\n",
              "  @keyframes spin {\n",
              "    0% {\n",
              "      border-color: transparent;\n",
              "      border-bottom-color: var(--fill-color);\n",
              "      border-left-color: var(--fill-color);\n",
              "    }\n",
              "    20% {\n",
              "      border-color: transparent;\n",
              "      border-left-color: var(--fill-color);\n",
              "      border-top-color: var(--fill-color);\n",
              "    }\n",
              "    30% {\n",
              "      border-color: transparent;\n",
              "      border-left-color: var(--fill-color);\n",
              "      border-top-color: var(--fill-color);\n",
              "      border-right-color: var(--fill-color);\n",
              "    }\n",
              "    40% {\n",
              "      border-color: transparent;\n",
              "      border-right-color: var(--fill-color);\n",
              "      border-top-color: var(--fill-color);\n",
              "    }\n",
              "    60% {\n",
              "      border-color: transparent;\n",
              "      border-right-color: var(--fill-color);\n",
              "    }\n",
              "    80% {\n",
              "      border-color: transparent;\n",
              "      border-right-color: var(--fill-color);\n",
              "      border-bottom-color: var(--fill-color);\n",
              "    }\n",
              "    90% {\n",
              "      border-color: transparent;\n",
              "      border-bottom-color: var(--fill-color);\n",
              "    }\n",
              "  }\n",
              "</style>\n",
              "\n",
              "      <script>\n",
              "        async function quickchart(key) {\n",
              "          const quickchartButtonEl =\n",
              "            document.querySelector('#' + key + ' button');\n",
              "          quickchartButtonEl.disabled = true;  // To prevent multiple clicks.\n",
              "          quickchartButtonEl.classList.add('colab-df-spinner');\n",
              "          try {\n",
              "            const charts = await google.colab.kernel.invokeFunction(\n",
              "                'suggestCharts', [key], {});\n",
              "          } catch (error) {\n",
              "            console.error('Error during call to suggestCharts:', error);\n",
              "          }\n",
              "          quickchartButtonEl.classList.remove('colab-df-spinner');\n",
              "          quickchartButtonEl.classList.add('colab-df-quickchart-complete');\n",
              "        }\n",
              "        (() => {\n",
              "          let quickchartButtonEl =\n",
              "            document.querySelector('#df-46b020d2-927d-426f-93b3-0cc888489820 button');\n",
              "          quickchartButtonEl.style.display =\n",
              "            google.colab.kernel.accessAllowed ? 'block' : 'none';\n",
              "        })();\n",
              "      </script>\n",
              "    </div>\n",
              "\n",
              "    </div>\n",
              "  </div>\n"
            ],
            "application/vnd.google.colaboratory.intrinsic+json": {
              "type": "dataframe",
              "variable_name": "df",
              "summary": "{\n  \"name\": \"df\",\n  \"rows\": 2676,\n  \"fields\": [\n    {\n      \"column\": \"Date\",\n      \"properties\": {\n        \"dtype\": \"date\",\n        \"min\": \"2015-01-02 00:00:00\",\n        \"max\": \"2025-09-03 00:00:00\",\n        \"num_unique_values\": 2676,\n        \"samples\": [\n          \"2018-09-28 00:00:00\",\n          \"2024-05-27 00:00:00\",\n          \"2016-10-07 00:00:00\"\n        ],\n        \"semantic_type\": \"\",\n        \"description\": \"\"\n      }\n    },\n    {\n      \"column\": \"Price\",\n      \"properties\": {\n        \"dtype\": \"number\",\n        \"std\": 3331.8758519899034,\n        \"min\": 685.68,\n        \"max\": 11529.81,\n        \"num_unique_values\": 2646,\n        \"samples\": [\n          1363.28,\n          967.73,\n          711.98\n        ],\n        \"semantic_type\": \"\",\n        \"description\": \"\"\n      }\n    },\n    {\n      \"column\": \"Open\",\n      \"properties\": {\n        \"dtype\": \"number\",\n        \"std\": 3337.0096823588183,\n        \"min\": 693.09,\n        \"max\": 11561.73,\n        \"num_unique_values\": 2649,\n        \"samples\": [\n          1589.43,\n          967.38,\n          1134.76\n        ],\n        \"semantic_type\": \"\",\n        \"description\": \"\"\n      }\n    },\n    {\n      \"column\": \"High\",\n      \"properties\": {\n        \"dtype\": \"number\",\n        \"std\": 3366.4537355365123,\n        \"min\": 697.77,\n        \"max\": 11605.3,\n        \"num_unique_values\": 2642,\n        \"samples\": [\n          1416.14,\n          10208.79,\n          9749.15\n        ],\n        \"semantic_type\": \"\",\n        \"description\": \"\"\n      }\n    },\n    {\n      \"column\": \"Low\",\n      \"properties\": {\n        \"dtype\": \"number\",\n        \"std\": 3302.0602620396367,\n        \"min\": 682.3,\n        \"max\": 11447.19,\n        \"num_unique_values\": 2654,\n        \"samples\": [\n          1029.34,\n          814.85,\n          1147.43\n        ],\n        \"semantic_type\": \"\",\n        \"description\": \"\"\n      }\n    },\n    {\n      \"column\": \"Vol.\",\n      \"properties\": {\n        \"dtype\": \"category\",\n        \"num_unique_values\": 1303,\n        \"samples\": [\n          \"843.86M\",\n          \"8.66B\",\n          \"840.03M\"\n        ],\n        \"semantic_type\": \"\",\n        \"description\": \"\"\n      }\n    },\n    {\n      \"column\": \"Change %\",\n      \"properties\": {\n        \"dtype\": \"number\",\n        \"std\": 1.5746111046620161,\n        \"min\": -9.79,\n        \"max\": 9.88,\n        \"num_unique_values\": 654,\n        \"samples\": [\n          -0.1,\n          -2.36,\n          -9.79\n        ],\n        \"semantic_type\": \"\",\n        \"description\": \"\"\n      }\n    },\n    {\n      \"column\": \"Day\",\n      \"properties\": {\n        \"dtype\": \"category\",\n        \"num_unique_values\": 5,\n        \"samples\": [\n          \"Monday\",\n          \"Thursday\",\n          \"Tuesday\"\n        ],\n        \"semantic_type\": \"\",\n        \"description\": \"\"\n      }\n    },\n    {\n      \"column\": \"Daily_Continuous_Return\",\n      \"properties\": {\n        \"dtype\": \"number\",\n        \"std\": 0.015808706705319885,\n        \"min\": -0.1030675135327672,\n        \"max\": 0.0942191616575613,\n        \"num_unique_values\": 2672,\n        \"samples\": [\n          -0.0033647279323583386,\n          -0.0022621116254600898,\n          -0.013057487606088618\n        ],\n        \"semantic_type\": \"\",\n        \"description\": \"\"\n      }\n    }\n  ]\n}"
            }
          },
          "metadata": {},
          "execution_count": 18
        }
      ]
    },
    {
      "cell_type": "code",
      "source": [
        "day_counts = df['Day'].value_counts()\n",
        "print(day_counts)"
      ],
      "metadata": {
        "colab": {
          "base_uri": "https://localhost:8080/"
        },
        "id": "tuwaO04wKJMK",
        "outputId": "e7275036-6fbf-41c8-8993-d3aa6fdf5d2d"
      },
      "execution_count": 19,
      "outputs": [
        {
          "output_type": "stream",
          "name": "stdout",
          "text": [
            "Day\n",
            "Wednesday    538\n",
            "Thursday     537\n",
            "Monday       535\n",
            "Friday       533\n",
            "Tuesday      533\n",
            "Name: count, dtype: int64\n"
          ]
        }
      ]
    },
    {
      "cell_type": "code",
      "source": [
        "month_counts = monthly_closings['Month'].value_counts()\n",
        "print(month_counts)"
      ],
      "metadata": {
        "colab": {
          "base_uri": "https://localhost:8080/"
        },
        "id": "lroyvnNFys3r",
        "outputId": "5a9568ef-0f75-4686-e5d0-53037ce26c3c"
      },
      "execution_count": 20,
      "outputs": [
        {
          "output_type": "stream",
          "name": "stdout",
          "text": [
            "Month\n",
            "January      11\n",
            "February     11\n",
            "March        11\n",
            "April        11\n",
            "May          11\n",
            "June         11\n",
            "July         11\n",
            "August       11\n",
            "September    11\n",
            "October      10\n",
            "November     10\n",
            "December     10\n",
            "Name: count, dtype: int64\n"
          ]
        }
      ]
    },
    {
      "cell_type": "code",
      "source": [
        "df_day = df[['Day', 'Daily_Continuous_Return']]\n",
        "df_month = monthly_closings[['Month', 'Monthly_Continuous_Return']]"
      ],
      "metadata": {
        "id": "y20cP4wsygXl"
      },
      "execution_count": 21,
      "outputs": []
    },
    {
      "cell_type": "markdown",
      "source": [
        "## Calendar Anomalies Analysis\n",
        "\n",
        "This section investigates whether statistically significant differences exist in the daily continuous returns of the dataset across different days of the week (Monday to Friday) and months of the year (January to December). The phenomena under investigation are calendar anomalies in financial markets, commonly referred to as the day-of-the-week effect and month-of-the-year effect.\n",
        "\n",
        "**Day-of-the-Week Effect:**\n",
        "- $H_0$: μ_Monday = μ_Tuesday = μ_Wednesday = μ_Thursday = μ_Friday\n",
        "- $H_1$: At least one weekday mean differs\n",
        "\n",
        "**Month-of-the-Year Effect:**\n",
        "- $H_0$: μ_Jan = μ_Feb = ... = μ_Dec  \n",
        "- $H_1$: At least one monthly mean differs\n",
        "\n",
        "- The significance level (α) for this analysis is set at **0.05**."
      ],
      "metadata": {
        "id": "TBeUcfC0yMBQ"
      }
    },
    {
      "cell_type": "markdown",
      "source": [
        "### **Day-of-the-Week Effect:**"
      ],
      "metadata": {
        "id": "janFBoHbsqDk"
      }
    },
    {
      "cell_type": "markdown",
      "source": [
        "#### Normality Assumption Check\n"
      ],
      "metadata": {
        "id": "jaMOYU7qU0Xz"
      }
    },
    {
      "cell_type": "code",
      "source": [
        "groups = {}\n",
        "normality_results = {}\n",
        "\n",
        "for day in df_day['Day'].unique():\n",
        "    day_data = df_day[df_day['Day'] == day]['Daily_Continuous_Return'].dropna()\n",
        "\n",
        "    groups[day] = day_data\n",
        "\n",
        "    statistic, p_value = stats.shapiro(day_data)\n",
        "    normality_results[day] = (statistic, p_value)\n",
        "\n",
        "    print(f\"{day} - Shapiro-Wilk: statistic={statistic:}, p-value={p_value:}\")\n",
        "\n",
        "    if p_value < 0.05:\n",
        "        print(f\"{day} distribution is not normal.\")\n",
        "    else:\n",
        "        print(f\"{day} distribution is normal.\")\n",
        "\n",
        "    print(\"-\" * 50)\n",
        "    sns.kdeplot(day_data, label=day)\n",
        "\n",
        "plt.title('Daily Continuous Return Distribution by Day Groups')\n",
        "plt.xlabel('Daily Continuous Return')\n",
        "plt.ylabel('Density')\n",
        "plt.legend()\n",
        "plt.show()"
      ],
      "metadata": {
        "colab": {
          "base_uri": "https://localhost:8080/",
          "height": 718
        },
        "id": "4RtDx-LXQLM2",
        "outputId": "607e3ef5-1e65-48c6-b6eb-03e740104b03"
      },
      "execution_count": 22,
      "outputs": [
        {
          "output_type": "stream",
          "name": "stdout",
          "text": [
            "Friday - Shapiro-Wilk: statistic=0.9313438929141539, p-value=6.644562581272388e-15\n",
            "Friday distribution is not normal.\n",
            "--------------------------------------------------\n",
            "Monday - Shapiro-Wilk: statistic=0.954539272769475, p-value=8.891068188497565e-12\n",
            "Monday distribution is not normal.\n",
            "--------------------------------------------------\n",
            "Tuesday - Shapiro-Wilk: statistic=0.950944878207879, p-value=2.6492673637911814e-12\n",
            "Tuesday distribution is not normal.\n",
            "--------------------------------------------------\n",
            "Wednesday - Shapiro-Wilk: statistic=0.9291176454257217, p-value=2.89961267775567e-15\n",
            "Wednesday distribution is not normal.\n",
            "--------------------------------------------------\n",
            "Thursday - Shapiro-Wilk: statistic=0.9405936878452577, p-value=8.057565744284932e-14\n",
            "Thursday distribution is not normal.\n",
            "--------------------------------------------------\n"
          ]
        },
        {
          "output_type": "display_data",
          "data": {
            "text/plain": [
              "<Figure size 640x480 with 1 Axes>"
            ],
            "image/png": "[encoded data removed]"
          },
          "metadata": {}
        }
      ]
    },
    {
      "cell_type": "markdown",
      "source": [
        "* The first assumption for standard ANOVA requires that data within each group follow a normal distribution. To evaluate this assumption, the **Shapiro-Wilk test** was conducted on the daily returns for each day group.\n",
        "\n",
        "* The p-values for all day groups were extremely small, substantially below the significance level of 0.05. Consequently, the null hypothesis of normality was rejected for every group. The accompanying kernel density plots provide visual confirmation of these findings. While the central portion of each distribution approximates a bell curve, the distributions exhibit pronounced fat tails, which represent a characteristic feature of financial return data. These extended tails indicate the presence of outliers, resulting in the failure of the normality test.\n",
        "\n",
        "* Despite the failure of the normality test, a parametric test was employed. This decision was justified based on two fundamental statistical principles:\n",
        "  1. **Central Limit Theorem (CLT):** Given the large sample size (approximately 535 observations per group), the sampling distribution of the means approaches normality regardless of the underlying population distribution. This theoretical foundation supports the validity of parametric procedures even when normality assumptions are violated at the individual observation level.\n",
        "  2. **Robustness of ANOVA:** Analysis of variance demonstrates substantial robustness to departures from normality, particularly when sample sizes are large and relatively balanced across groups. Under these conditions, the Type I error rate remains approximately equal to the specified alpha level, ensuring the statistical inference maintains its intended properties."
      ],
      "metadata": {
        "id": "rkPemi1DOA-E"
      }
    },
    {
      "cell_type": "markdown",
      "source": [
        "#### Homogeneity of Variances Assumption Check"
      ],
      "metadata": {
        "id": "YM0W9eoQU9L2"
      }
    },
    {
      "cell_type": "code",
      "source": [
        "homojenity= stats.levene(groups['Monday'],groups['Tuesday'],groups['Wednesday'],groups['Thursday'],groups['Friday'])\n",
        "print(f\"statistic: {homojenity.statistic}, pvalue: {homojenity.pvalue}\")\n",
        "\n",
        "if homojenity.pvalue < 0.05:\n",
        "    print(\"Ho is rejected: Variances are not homogeneous.\")\n",
        "else:\n",
        "    print(\"H0 is accepted: Variances are homogeneous.\")"
      ],
      "metadata": {
        "colab": {
          "base_uri": "https://localhost:8080/"
        },
        "id": "Wx-X6XvWmHwh",
        "outputId": "59454b74-0584-4539-f79f-df7150fc912e"
      },
      "execution_count": 23,
      "outputs": [
        {
          "output_type": "stream",
          "name": "stdout",
          "text": [
            "statistic: 8.17707716604066, pvalue: 1.4964250282387501e-06\n",
            "Ho is rejected: Variances are not homogeneous.\n"
          ]
        }
      ]
    },
    {
      "cell_type": "markdown",
      "source": [
        "* The second key assumption for a standard ANOVA is the homogeneity of variances, which means that the variance within each group is approximately equal. This assumption was tested using the **Levene's Test**.\n",
        "\n",
        "* **Result:**\n",
        "    - Levene's Test Statistic: 8.17707716604066\n",
        "    - p-value: 1.4964250282387501e-06\n",
        "\n",
        "* The p-value is significantly smaller than the alpha level of 0.05. Therefore, the assumption that the variances are homogeneous is rejected. This finding indicates that the variances of the daily continuous returns are not equal across the day groups.\n",
        "\n",
        "* Given the violation of the homogeneity of variances assumption, Welch's ANOVA was employed as the primary analytical method, as it is specifically designed to accommodate unequal variances between groups."
      ],
      "metadata": {
        "id": "GviItH1PQ5Qs"
      }
    },
    {
      "cell_type": "markdown",
      "source": [
        "#### Welch ANOVA Test"
      ],
      "metadata": {
        "id": "E7FoftrXXOIr"
      }
    },
    {
      "cell_type": "code",
      "source": [
        "anova = pg.welch_anova(data=df_day, dv='Daily_Continuous_Return', between='Day')\n",
        "print(\"Welch ANOVA Results:\")\n",
        "print(anova)\n",
        "print(\"-\" * 60)\n",
        "\n",
        "p_value = anova['p-unc'].iloc[0]\n",
        "f_statistic = anova['F'].iloc[0]\n",
        "\n",
        "print(f\"F-statistic: {f_statistic:.4f}\")\n",
        "print(f\"p-value: {p_value:.6f}\")\n",
        "print(\"-\" * 60)\n",
        "\n",
        "alpha = 0.05\n",
        "if p_value < alpha:\n",
        "    print(f\"p-value ({p_value:.6f}) < α ({alpha}), The null hypothesis (Ho) is rejected .\")\n",
        "else:\n",
        "    print(f\"p-value ({p_value:.6f}) ≥ α ({alpha}),The null hypothesis (Ho) is not rejected.\")\n"
      ],
      "metadata": {
        "colab": {
          "base_uri": "https://localhost:8080/"
        },
        "id": "gcC4JW0WmJy_",
        "outputId": "5f674f90-d906-4e92-ad74-f67867ce6145"
      },
      "execution_count": 24,
      "outputs": [
        {
          "output_type": "stream",
          "name": "stdout",
          "text": [
            "Welch ANOVA Results:\n",
            "  Source  ddof1        ddof2         F     p-unc       np2\n",
            "0    Day      4  1332.671539  3.266379  0.011219  0.004837\n",
            "------------------------------------------------------------\n",
            "F-statistic: 3.2664\n",
            "p-value: 0.011219\n",
            "------------------------------------------------------------\n",
            "p-value (0.011219) < α (0.05), The null hypothesis (Ho) is rejected .\n"
          ]
        }
      ]
    },
    {
      "cell_type": "markdown",
      "source": [
        "* **Test Results:**\n",
        "    - F-statistic: 3.2664\n",
        "    - p-value: 0.011219\n",
        "    - np2: 0.004837\n",
        "\n",
        "- Since p-value < α (0.05), **the null hypothesis ($H_0$) is rejected**.\n",
        "\n",
        "- This indicates that **statistically significant evidence exists that at least one group mean differs significantly from the others**.\n",
        "- In practical terms, the mean daily continuous returns are not equal across all days of the week, suggesting that the day-of-the-week effect is present in the data."
      ],
      "metadata": {
        "id": "H9y1aU1iV_zh"
      }
    },
    {
      "cell_type": "markdown",
      "source": [
        "#### Post-Hoc Tests"
      ],
      "metadata": {
        "id": "1tDX8R7LXU1o"
      }
    },
    {
      "cell_type": "code",
      "source": [
        "\n",
        "# Perform Games-Howell post-hoc test\n",
        "posthoc = pg.pairwise_gameshowell(data=df_day, dv='Daily_Continuous_Return', between='Day')\n",
        "\n",
        "print(posthoc)\n",
        "\n",
        "# Filter for statistically significant pairs (where p-value is less than 0.05)\n",
        "significant = posthoc[posthoc['pval'] < 0.05]\n",
        "\n",
        "# Check if any significant differences were found\n",
        "if len(significant) > 0:\n",
        "    print(\"\\nThe post-hoc test identified statistically significant variations across groups at a significance level of 0.05:\")\n",
        "    for idx, row in significant.iterrows():\n",
        "        print(f\"{row['A']} vs {row['B']}: p = {row['pval']:.6f}\")\n",
        "else:\n",
        "    print(\"\\nNo significant difference found between any day pairs.\")"
      ],
      "metadata": {
        "colab": {
          "base_uri": "https://localhost:8080/"
        },
        "id": "5bp-zChqtpK_",
        "outputId": "af4ba9f2-e5e1-4b8d-9a38-0c8f3eccd41f"
      },
      "execution_count": 25,
      "outputs": [
        {
          "output_type": "stream",
          "name": "stdout",
          "text": [
            "          A          B   mean(A)   mean(B)      diff        se         T  \\\n",
            "0    Friday     Monday  0.000728  0.001920 -0.001191  0.001007 -1.182653   \n",
            "1    Friday   Thursday  0.000728  0.002389 -0.001660  0.000901 -1.842865   \n",
            "2    Friday    Tuesday  0.000728  0.000360  0.000368  0.000900  0.408975   \n",
            "3    Friday  Wednesday  0.000728 -0.000667  0.001395  0.000891  1.565641   \n",
            "4    Monday   Thursday  0.001920  0.002389 -0.000469  0.001044 -0.448931   \n",
            "5    Monday    Tuesday  0.001920  0.000360  0.001560  0.001044  1.494240   \n",
            "6    Monday  Wednesday  0.001920 -0.000667  0.002587  0.001036  2.496983   \n",
            "7  Thursday    Tuesday  0.002389  0.000360  0.002028  0.000941  2.154811   \n",
            "8  Thursday  Wednesday  0.002389 -0.000667  0.003055  0.000933  3.276156   \n",
            "9   Tuesday  Wednesday  0.000360 -0.000667  0.001027  0.000932  1.101933   \n",
            "\n",
            "            df      pval    hedges  \n",
            "0   991.587106  0.761384 -0.072304  \n",
            "1  1058.678801  0.349415 -0.112599  \n",
            "2  1054.273712  0.994125  0.025044  \n",
            "3  1063.149091  0.519895  0.095618  \n",
            "4  1033.390060  0.991604 -0.027413  \n",
            "5  1030.405712  0.566456  0.091349  \n",
            "6  1026.303426  0.092062  0.152437  \n",
            "7  1067.994299  0.197948  0.131655  \n",
            "8  1072.515824  0.009568  0.199708  \n",
            "9  1068.407039  0.805569  0.067301  \n",
            "\n",
            "The post-hoc test identified statistically significant variations across groups at a significance level of 0.05:\n",
            "Thursday vs Wednesday: p = 0.009568\n"
          ]
        }
      ]
    },
    {
      "cell_type": "markdown",
      "source": [
        "The **Games-Howell test** was selected as the most appropriate post-hoc procedure due to the previously identified violation of the homogeneity of variances assumption.\n",
        "\n",
        "**Results:**\n",
        "- The analysis revealed only one pair with a statistically significant difference p-value < α (0.05).\n",
        "- The difference was found between **Thursday** and **Wednesday**, with a p-value of **0.009568**.\n",
        "\n",
        "All other pairwise comparisons were non-significant, with p-values exceeding the 0.05 threshold."
      ],
      "metadata": {
        "id": "UocJy7ppYOIp"
      }
    },
    {
      "cell_type": "code",
      "source": [
        "\n",
        "tamhane = sp.posthoc_tamhane(df_day, val_col='Daily_Continuous_Return', group_col='Day')\n",
        "print(tamhane)"
      ],
      "metadata": {
        "colab": {
          "base_uri": "https://localhost:8080/"
        },
        "id": "vecXR-bht7mo",
        "outputId": "8fa5c440-c563-4c89-eaa6-3c9b708016f9"
      },
      "execution_count": 26,
      "outputs": [
        {
          "output_type": "stream",
          "name": "stdout",
          "text": [
            "             Friday    Monday   Tuesday  Wednesday  Thursday\n",
            "Friday     1.000000  0.741793  0.996781   0.465427  0.287805\n",
            "Monday     0.741793  1.000000  0.516910   0.061819  0.995011\n",
            "Tuesday    0.996781  0.516910  1.000000   0.793740  0.147444\n",
            "Wednesday  0.465427  0.061819  0.793740   1.000000  0.005418\n",
            "Thursday   0.287805  0.995011  0.147444   0.005418  1.000000\n"
          ]
        }
      ]
    },
    {
      "cell_type": "markdown",
      "source": [
        "As a secondary post-hoc test, Tamhane's T2 test was also conducted to validate the findings. The results confirmed the previous analysis:\n",
        "- The only p-value below the 0.05 significance level was for the comparison **between Thursday and Wednesday.**\n",
        "- The p-value for this specific comparison was 0.00542.\n",
        "\n",
        "#### Comparison of Post-Hoc Test Results\n",
        "\n",
        "Comparing the results from both the Games-Howell and Tamhane's T2 tests reveals a strong consistency in the findings:\n",
        "\n",
        "* **Games-Howell:** Thursday vs Wednesday: p = 0.009568\n",
        "* **Tamhane's T2:** Thursday vs Wednesday: p = 0.005418\n",
        "\n",
        "* Both tests, despite employing different calculation methods, reached the same conclusion. The only statistically significant difference in daily continuous returns is between Thursday and Wednesday. This agreement across robust tests provides high confidence in the reliability of these findings."
      ],
      "metadata": {
        "id": "wNiFxQYXZ2uR"
      }
    },
    {
      "cell_type": "code",
      "source": [
        "grp_m = df_day.groupby('Day')['Daily_Continuous_Return'].mean()*100\n",
        "print(grp_m[['Monday','Tuesday','Wednesday', 'Thursday','Friday']])"
      ],
      "metadata": {
        "colab": {
          "base_uri": "https://localhost:8080/"
        },
        "id": "HYALLgTnypaE",
        "outputId": "f53452ed-3bbe-441a-ebc1-150e003ab23e"
      },
      "execution_count": 27,
      "outputs": [
        {
          "output_type": "stream",
          "name": "stdout",
          "text": [
            "Day\n",
            "Monday       0.191993\n",
            "Tuesday      0.036031\n",
            "Wednesday   -0.066661\n",
            "Thursday     0.238877\n",
            "Friday       0.072848\n",
            "Name: Daily_Continuous_Return, dtype: float64\n"
          ]
        }
      ]
    },
    {
      "cell_type": "code",
      "source": [
        "day_order = ['Monday', 'Tuesday', 'Wednesday', 'Thursday', 'Friday']\n",
        "means = df_day.groupby('Day')['Daily_Continuous_Return'].mean() * 100\n",
        "stds = df_day.groupby('Day')['Daily_Continuous_Return'].std() * 100\n",
        "\n",
        "fig, (ax1, ax2) = plt.subplots(2, 1, figsize=(10, 8),\n",
        "                               gridspec_kw={'height_ratios': [3, 1]})\n",
        "\n",
        "# Top panel: Bar chart\n",
        "bars = ax1.bar(range(len(day_order)), [means[day] for day in day_order],\n",
        "               yerr=[stds[day] for day in day_order],\n",
        "               capsize=8, alpha=0.8,\n",
        "               color=['lightsteelblue', 'lightsteelblue', 'lightcoral', 'lightgreen', 'lightsteelblue'])\n",
        "\n",
        "ax1.set_title('Average Daily Returns with Standard Deviation\\nBIST100 Index (January 2015 - September 2025)',\n",
        "              fontsize=14, fontweight='bold', pad=20)\n",
        "ax1.set_ylabel('Daily Return (%)', fontsize=12)\n",
        "ax1.set_xticks(range(len(day_order)))\n",
        "ax1.set_xticklabels(day_order)\n",
        "ax1.axhline(y=0, color='black', linestyle='-', alpha=0.5)\n",
        "ax1.grid(True, alpha=0.3, axis='y')\n",
        "\n",
        "# Bottom panel: Summary table\n",
        "table_data = []\n",
        "for day in day_order:\n",
        "    count = day_counts[day]\n",
        "    mean_val = means[day]\n",
        "    std_val = stds[day]\n",
        "    table_data.append([day, f'{count:,}', f'{mean_val:.4f}%', f'{std_val:.4f}%'])\n",
        "\n",
        "table = ax2.table(cellText=table_data,\n",
        "                  colLabels=['Day', 'Observations', 'Mean Return', 'Std Deviation'],\n",
        "                  cellLoc='center',\n",
        "                  loc='center',\n",
        "                  bbox=[0, 0, 1, 1])\n",
        "\n",
        "table.auto_set_font_size(False)\n",
        "table.set_fontsize(11)\n",
        "table.scale(1.2, 2)\n",
        "\n",
        "# Style the table\n",
        "for i in range(len(day_order)):\n",
        "    if day_order[i] == 'Wednesday':\n",
        "        table[(i+1, 0)].set_facecolor('lightcoral')\n",
        "        table[(i+1, 1)].set_facecolor('lightcoral')\n",
        "        table[(i+1, 2)].set_facecolor('lightcoral')\n",
        "        table[(i+1, 3)].set_facecolor('lightcoral')\n",
        "    elif day_order[i] == 'Thursday':\n",
        "        table[(i+1, 0)].set_facecolor('lightgreen')\n",
        "        table[(i+1, 1)].set_facecolor('lightgreen')\n",
        "        table[(i+1, 2)].set_facecolor('lightgreen')\n",
        "        table[(i+1, 3)].set_facecolor('lightgreen')\n",
        "\n",
        "ax2.set_axis_off()\n",
        "ax2.set_title('Summary Statistics', fontsize=12, fontweight='bold', pad=10)\n",
        "\n",
        "plt.tight_layout()\n",
        "plt.show()"
      ],
      "metadata": {
        "colab": {
          "base_uri": "https://localhost:8080/",
          "height": 805
        },
        "id": "oZwBINOLpITI",
        "outputId": "54755191-e90e-4099-d02d-4eaf23cd45df"
      },
      "execution_count": 28,
      "outputs": [
        {
          "output_type": "display_data",
          "data": {
            "text/plain": [
              "<Figure size 1000x800 with 2 Axes>"
            ],
            "image/png": "[encoded data removed]"
          },
          "metadata": {}
        }
      ]
    },
    {
      "cell_type": "markdown",
      "source": [
        "#### Conclusion\n",
        "\n",
        "This analysis was conducted to determine whether statistically significant differences exist in daily continuous returns across different days of the week.\n",
        "\n",
        "The initial assumption checks revealed that both the normality and homogeneity of variances assumptions were violated. However, based on the large sample size and the robustness of ANOVA, the decision was made to proceed with a parametric approach.\n",
        "\n",
        "**Welch's ANOVA** was performed as the primary analysis, and the results indicated a statistically significant difference among the group means ($p < 0.05$). This led to the rejection of our initial null hypothesis.\n",
        "\n",
        "\n",
        "To identify the specific pairs responsible for this difference, post-hoc tests were conducted. Both the **Games-Howell** and **Tamhane's T2** tests consistently showed that the only significant difference was found between **Thursday and Wednesday**. This finding is supported by the descriptive analysis, which revealed that Thursday exhibited the highest average daily return, while Wednesday showed the lowest and only negative average return.\n",
        "\n",
        "In conclusion, our analysis provides strong evidence that daily continuous returns are not equal across all days of the week. This finding supports the existence of the day-of-the-week effect, a calendar anomaly, in the BIST100 between 2015-2025."
      ],
      "metadata": {
        "id": "yL0fcd5LoRn6"
      }
    },
    {
      "cell_type": "markdown",
      "source": [
        "### **Month-of-the-Year Effect:**"
      ],
      "metadata": {
        "id": "2DyEORaj4f0O"
      }
    },
    {
      "cell_type": "code",
      "source": [
        "df_month.head(2)"
      ],
      "metadata": {
        "colab": {
          "base_uri": "https://localhost:8080/",
          "height": 109
        },
        "id": "vFmDZEDe4hfj",
        "outputId": "67269a46-73db-4afd-cc1b-cbd75878f41e"
      },
      "execution_count": 29,
      "outputs": [
        {
          "output_type": "execute_result",
          "data": {
            "text/plain": [
              "      Month  Monthly_Continuous_Return\n",
              "0   January                        NaN\n",
              "1  February                  -0.055452"
            ],
            "text/html": [
              "\n",
              "  <div id=\"df-273e9a27-1619-4aa2-809b-ca712ef2db2e\" class=\"colab-df-container\">\n",
              "    <div>\n",
              "<style scoped>\n",
              "    .dataframe tbody tr th:only-of-type {\n",
              "        vertical-align: middle;\n",
              "    }\n",
              "\n",
              "    .dataframe tbody tr th {\n",
              "        vertical-align: top;\n",
              "    }\n",
              "\n",
              "    .dataframe thead th {\n",
              "        text-align: right;\n",
              "    }\n",
              "</style>\n",
              "<table border=\"1\" class=\"dataframe\">\n",
              "  <thead>\n",
              "    <tr style=\"text-align: right;\">\n",
              "      <th></th>\n",
              "      <th>Month</th>\n",
              "      <th>Monthly_Continuous_Return</th>\n",
              "    </tr>\n",
              "  </thead>\n",
              "  <tbody>\n",
              "    <tr>\n",
              "      <th>0</th>\n",
              "      <td>January</td>\n",
              "      <td>NaN</td>\n",
              "    </tr>\n",
              "    <tr>\n",
              "      <th>1</th>\n",
              "      <td>February</td>\n",
              "      <td>-0.055452</td>\n",
              "    </tr>\n",
              "  </tbody>\n",
              "</table>\n",
              "</div>\n",
              "    <div class=\"colab-df-buttons\">\n",
              "\n",
              "  <div class=\"colab-df-container\">\n",
              "    <button class=\"colab-df-convert\" onclick=\"convertToInteractive('df-273e9a27-1619-4aa2-809b-ca712ef2db2e')\"\n",
              "            title=\"Convert this dataframe to an interactive table.\"\n",
              "            style=\"display:none;\">\n",
              "\n",
              "  <svg xmlns=\"http://www.w3.org/2000/svg\" height=\"24px\" viewBox=\"0 -960 960 960\">\n",
              "    <path d=\"M120-120v-720h720v720H120Zm60-500h600v-160H180v160Zm220 220h160v-160H400v160Zm0 220h160v-160H400v160ZM180-400h160v-160H180v160Zm440 0h160v-160H620v160ZM180-180h160v-160H180v160Zm440 0h160v-160H620v160Z\"/>\n",
              "  </svg>\n",
              "    </button>\n",
              "\n",
              "  <style>\n",
              "    .colab-df-container {\n",
              "      display:flex;\n",
              "      gap: 12px;\n",
              "    }\n",
              "\n",
              "    .colab-df-convert {\n",
              "      background-color: #E8F0FE;\n",
              "      border: none;\n",
              "      border-radius: 50%;\n",
              "      cursor: pointer;\n",
              "      display: none;\n",
              "      fill: #1967D2;\n",
              "      height: 32px;\n",
              "      padding: 0 0 0 0;\n",
              "      width: 32px;\n",
              "    }\n",
              "\n",
              "    .colab-df-convert:hover {\n",
              "      background-color: #E2EBFA;\n",
              "      box-shadow: 0px 1px 2px rgba(60, 64, 67, 0.3), 0px 1px 3px 1px rgba(60, 64, 67, 0.15);\n",
              "      fill: #174EA6;\n",
              "    }\n",
              "\n",
              "    .colab-df-buttons div {\n",
              "      margin-bottom: 4px;\n",
              "    }\n",
              "\n",
              "    [theme=dark] .colab-df-convert {\n",
              "      background-color: #3B4455;\n",
              "      fill: #D2E3FC;\n",
              "    }\n",
              "\n",
              "    [theme=dark] .colab-df-convert:hover {\n",
              "      background-color: #434B5C;\n",
              "      box-shadow: 0px 1px 3px 1px rgba(0, 0, 0, 0.15);\n",
              "      filter: drop-shadow(0px 1px 2px rgba(0, 0, 0, 0.3));\n",
              "      fill: #FFFFFF;\n",
              "    }\n",
              "  </style>\n",
              "\n",
              "    <script>\n",
              "      const buttonEl =\n",
              "        document.querySelector('#df-273e9a27-1619-4aa2-809b-ca712ef2db2e button.colab-df-convert');\n",
              "      buttonEl.style.display =\n",
              "        google.colab.kernel.accessAllowed ? 'block' : 'none';\n",
              "\n",
              "      async function convertToInteractive(key) {\n",
              "        const element = document.querySelector('#df-273e9a27-1619-4aa2-809b-ca712ef2db2e');\n",
              "        const dataTable =\n",
              "          await google.colab.kernel.invokeFunction('convertToInteractive',\n",
              "                                                    [key], {});\n",
              "        if (!dataTable) return;\n",
              "\n",
              "        const docLinkHtml = 'Like what you see? Visit the ' +\n",
              "          '<a target=\"_blank\" href=https://colab.research.google.com/notebooks/data_table.ipynb>data table notebook</a>'\n",
              "          + ' to learn more about interactive tables.';\n",
              "        element.innerHTML = '';\n",
              "        dataTable['output_type'] = 'display_data';\n",
              "        await google.colab.output.renderOutput(dataTable, element);\n",
              "        const docLink = document.createElement('div');\n",
              "        docLink.innerHTML = docLinkHtml;\n",
              "        element.appendChild(docLink);\n",
              "      }\n",
              "    </script>\n",
              "  </div>\n",
              "\n",
              "\n",
              "    <div id=\"df-b8ffbdbe-c025-4912-b458-67f563e421fb\">\n",
              "      <button class=\"colab-df-quickchart\" onclick=\"quickchart('df-b8ffbdbe-c025-4912-b458-67f563e421fb')\"\n",
              "                title=\"Suggest charts\"\n",
              "                style=\"display:none;\">\n",
              "\n",
              "<svg xmlns=\"http://www.w3.org/2000/svg\" height=\"24px\"viewBox=\"0 0 24 24\"\n",
              "     width=\"24px\">\n",
              "    <g>\n",
              "        <path d=\"M19 3H5c-1.1 0-2 .9-2 2v14c0 1.1.9 2 2 2h14c1.1 0 2-.9 2-2V5c0-1.1-.9-2-2-2zM9 17H7v-7h2v7zm4 0h-2V7h2v10zm4 0h-2v-4h2v4z\"/>\n",
              "    </g>\n",
              "</svg>\n",
              "      </button>\n",
              "\n",
              "<style>\n",
              "  .colab-df-quickchart {\n",
              "      --bg-color: #E8F0FE;\n",
              "      --fill-color: #1967D2;\n",
              "      --hover-bg-color: #E2EBFA;\n",
              "      --hover-fill-color: #174EA6;\n",
              "      --disabled-fill-color: #AAA;\n",
              "      --disabled-bg-color: #DDD;\n",
              "  }\n",
              "\n",
              "  [theme=dark] .colab-df-quickchart {\n",
              "      --bg-color: #3B4455;\n",
              "      --fill-color: #D2E3FC;\n",
              "      --hover-bg-color: #434B5C;\n",
              "      --hover-fill-color: #FFFFFF;\n",
              "      --disabled-bg-color: #3B4455;\n",
              "      --disabled-fill-color: #666;\n",
              "  }\n",
              "\n",
              "  .colab-df-quickchart {\n",
              "    background-color: var(--bg-color);\n",
              "    border: none;\n",
              "    border-radius: 50%;\n",
              "    cursor: pointer;\n",
              "    display: none;\n",
              "    fill: var(--fill-color);\n",
              "    height: 32px;\n",
              "    padding: 0;\n",
              "    width: 32px;\n",
              "  }\n",
              "\n",
              "  .colab-df-quickchart:hover {\n",
              "    background-color: var(--hover-bg-color);\n",
              "    box-shadow: 0 1px 2px rgba(60, 64, 67, 0.3), 0 1px 3px 1px rgba(60, 64, 67, 0.15);\n",
              "    fill: var(--button-hover-fill-color);\n",
              "  }\n",
              "\n",
              "  .colab-df-quickchart-complete:disabled,\n",
              "  .colab-df-quickchart-complete:disabled:hover {\n",
              "    background-color: var(--disabled-bg-color);\n",
              "    fill: var(--disabled-fill-color);\n",
              "    box-shadow: none;\n",
              "  }\n",
              "\n",
              "  .colab-df-spinner {\n",
              "    border: 2px solid var(--fill-color);\n",
              "    border-color: transparent;\n",
              "    border-bottom-color: var(--fill-color);\n",
              "    animation:\n",
              "      spin 1s steps(1) infinite;\n",
              "  }\n",
              "\n",
              "  @keyframes spin {\n",
              "    0% {\n",
              "      border-color: transparent;\n",
              "      border-bottom-color: var(--fill-color);\n",
              "      border-left-color: var(--fill-color);\n",
              "    }\n",
              "    20% {\n",
              "      border-color: transparent;\n",
              "      border-left-color: var(--fill-color);\n",
              "      border-top-color: var(--fill-color);\n",
              "    }\n",
              "    30% {\n",
              "      border-color: transparent;\n",
              "      border-left-color: var(--fill-color);\n",
              "      border-top-color: var(--fill-color);\n",
              "      border-right-color: var(--fill-color);\n",
              "    }\n",
              "    40% {\n",
              "      border-color: transparent;\n",
              "      border-right-color: var(--fill-color);\n",
              "      border-top-color: var(--fill-color);\n",
              "    }\n",
              "    60% {\n",
              "      border-color: transparent;\n",
              "      border-right-color: var(--fill-color);\n",
              "    }\n",
              "    80% {\n",
              "      border-color: transparent;\n",
              "      border-right-color: var(--fill-color);\n",
              "      border-bottom-color: var(--fill-color);\n",
              "    }\n",
              "    90% {\n",
              "      border-color: transparent;\n",
              "      border-bottom-color: var(--fill-color);\n",
              "    }\n",
              "  }\n",
              "</style>\n",
              "\n",
              "      <script>\n",
              "        async function quickchart(key) {\n",
              "          const quickchartButtonEl =\n",
              "            document.querySelector('#' + key + ' button');\n",
              "          quickchartButtonEl.disabled = true;  // To prevent multiple clicks.\n",
              "          quickchartButtonEl.classList.add('colab-df-spinner');\n",
              "          try {\n",
              "            const charts = await google.colab.kernel.invokeFunction(\n",
              "                'suggestCharts', [key], {});\n",
              "          } catch (error) {\n",
              "            console.error('Error during call to suggestCharts:', error);\n",
              "          }\n",
              "          quickchartButtonEl.classList.remove('colab-df-spinner');\n",
              "          quickchartButtonEl.classList.add('colab-df-quickchart-complete');\n",
              "        }\n",
              "        (() => {\n",
              "          let quickchartButtonEl =\n",
              "            document.querySelector('#df-b8ffbdbe-c025-4912-b458-67f563e421fb button');\n",
              "          quickchartButtonEl.style.display =\n",
              "            google.colab.kernel.accessAllowed ? 'block' : 'none';\n",
              "        })();\n",
              "      </script>\n",
              "    </div>\n",
              "\n",
              "    </div>\n",
              "  </div>\n"
            ],
            "application/vnd.google.colaboratory.intrinsic+json": {
              "type": "dataframe",
              "variable_name": "df_month",
              "summary": "{\n  \"name\": \"df_month\",\n  \"rows\": 129,\n  \"fields\": [\n    {\n      \"column\": \"Month\",\n      \"properties\": {\n        \"dtype\": \"category\",\n        \"num_unique_values\": 12,\n        \"samples\": [\n          \"November\",\n          \"October\",\n          \"January\"\n        ],\n        \"semantic_type\": \"\",\n        \"description\": \"\"\n      }\n    },\n    {\n      \"column\": \"Monthly_Continuous_Return\",\n      \"properties\": {\n        \"dtype\": \"number\",\n        \"std\": 0.07528272827262568,\n        \"min\": -0.1675362178630863,\n        \"max\": 0.22565086272519636,\n        \"num_unique_values\": 128,\n        \"samples\": [\n          0.08247505864814486,\n          -0.04191878197108988,\n          0.006821666795942126\n        ],\n        \"semantic_type\": \"\",\n        \"description\": \"\"\n      }\n    }\n  ]\n}"
            }
          },
          "metadata": {},
          "execution_count": 29
        }
      ]
    },
    {
      "cell_type": "code",
      "source": [
        "month_groups = {}\n",
        "month_normality_results = {}\n",
        "\n",
        "for month in df_month['Month'].unique():\n",
        "    month_data = df_month[df_month['Month'] == month]['Monthly_Continuous_Return'].dropna()\n",
        "\n",
        "    month_groups[month] = month_data\n",
        "\n",
        "    statistic, p_value = stats.shapiro(month_data)\n",
        "    month_normality_results[month] = (statistic, p_value)\n",
        "\n",
        "    print(f\"{month} - Shapiro-Wilk: statistic={statistic:}, p-value={p_value:}\")\n",
        "\n",
        "    if p_value < 0.05:\n",
        "        print(f\"{month} distribution is not normal.\")\n",
        "    else:\n",
        "        print(f\"{month} distribution is normal.\")\n",
        "\n",
        "    print(\"-\" * 50)"
      ],
      "metadata": {
        "colab": {
          "base_uri": "https://localhost:8080/"
        },
        "id": "nccNcD2w4pDU",
        "outputId": "0ef2e479-5074-4823-91c2-9c1a7a5bb20c"
      },
      "execution_count": 30,
      "outputs": [
        {
          "output_type": "stream",
          "name": "stdout",
          "text": [
            "January - Shapiro-Wilk: statistic=0.9291262215179441, p-value=0.439352857471877\n",
            "January distribution is normal.\n",
            "--------------------------------------------------\n",
            "February - Shapiro-Wilk: statistic=0.9755803417739833, p-value=0.9366505255693353\n",
            "February distribution is normal.\n",
            "--------------------------------------------------\n",
            "March - Shapiro-Wilk: statistic=0.9766103821353486, p-value=0.9443931671257013\n",
            "March distribution is normal.\n",
            "--------------------------------------------------\n",
            "April - Shapiro-Wilk: statistic=0.9691363632414517, p-value=0.8776790854350676\n",
            "April distribution is normal.\n",
            "--------------------------------------------------\n",
            "May - Shapiro-Wilk: statistic=0.9225619376377341, p-value=0.34055895319393803\n",
            "May distribution is normal.\n",
            "--------------------------------------------------\n",
            "June - Shapiro-Wilk: statistic=0.9364809372860026, p-value=0.4800519779166354\n",
            "June distribution is normal.\n",
            "--------------------------------------------------\n",
            "July - Shapiro-Wilk: statistic=0.8423023388138726, p-value=0.03385181287440751\n",
            "July distribution is not normal.\n",
            "--------------------------------------------------\n",
            "August - Shapiro-Wilk: statistic=0.8970642934507972, p-value=0.17014996093733836\n",
            "August distribution is normal.\n",
            "--------------------------------------------------\n",
            "September - Shapiro-Wilk: statistic=0.9298794813970238, p-value=0.40963561635054463\n",
            "September distribution is normal.\n",
            "--------------------------------------------------\n",
            "October - Shapiro-Wilk: statistic=0.90049586080733, p-value=0.22185825344474008\n",
            "October distribution is normal.\n",
            "--------------------------------------------------\n",
            "November - Shapiro-Wilk: statistic=0.9191337814825234, p-value=0.34978693495639324\n",
            "November distribution is normal.\n",
            "--------------------------------------------------\n",
            "December - Shapiro-Wilk: statistic=0.9364806840502906, p-value=0.5145576067847166\n",
            "December distribution is normal.\n",
            "--------------------------------------------------\n"
          ]
        }
      ]
    },
    {
      "cell_type": "code",
      "source": [
        "mhomojenity= stats.levene(month_groups['January'],month_groups['February'],month_groups['March'],month_groups['April'],\n",
        "                         month_groups['May'], month_groups['June'],month_groups['July'], month_groups['August'], month_groups['September'],\n",
        "                         month_groups['October'],month_groups['November'],month_groups['December'])\n",
        "print(f\"statistic: {mhomojenity.statistic}, pvalue: {mhomojenity.pvalue}\")\n",
        "\n",
        "if mhomojenity.pvalue < 0.05:\n",
        "    print(\"Ho is rejected: Variances are not homogeneous.\")\n",
        "else:\n",
        "    print(\"H0 is accepted: Variances are homogeneous.\")"
      ],
      "metadata": {
        "colab": {
          "base_uri": "https://localhost:8080/"
        },
        "id": "rzKYnXU96Kv5",
        "outputId": "d8343225-dbc6-4997-ccba-41cbf1963642"
      },
      "execution_count": 31,
      "outputs": [
        {
          "output_type": "stream",
          "name": "stdout",
          "text": [
            "statistic: 1.087209484541159, pvalue: 0.37762171188328697\n",
            "H0 is accepted: Variances are homogeneous.\n"
          ]
        }
      ]
    },
    {
      "cell_type": "markdown",
      "source": [
        "Assumption testing for monthly data showed:\n",
        "- **Normality:** Violated only for July (p = 0.0339)\n",
        "- **Homogeneity:** Satisfied across all months (p = 0.3776)\n",
        "\n",
        "The homogeneous variances and ANOVA's robustness to minor normality violations supported the use of **standard one-way ANOVA**."
      ],
      "metadata": {
        "id": "lHmgydq5ttmz"
      }
    },
    {
      "cell_type": "code",
      "source": [
        "oneway = pg.anova(data=df_month, dv='Monthly_Continuous_Return', between='Month',detailed=False)\n",
        "print(\"oneway way ANOVA Results:\")\n",
        "print(oneway)\n",
        "print(\"-\" * 60)\n",
        "\n",
        "pvalue = oneway['p-unc'].iloc[0]\n",
        "fstatistic = oneway['F'].iloc[0]\n",
        "\n",
        "print(f\"F-statistic: {fstatistic:.4f}\")\n",
        "print(f\"p-value: {pvalue:.6f}\")\n",
        "print(\"-\" * 60)\n",
        "\n",
        "alpha = 0.05\n",
        "if pvalue < alpha:\n",
        "    print(f\"p-value ({pvalue:.6f}) < α ({alpha}), The null hypothesis (Ho) is rejected .\")\n",
        "else:\n",
        "    print(f\"p-value ({pvalue:.6f}) ≥ α ({alpha}),The null hypothesis (Ho) is not rejected.\")\n"
      ],
      "metadata": {
        "colab": {
          "base_uri": "https://localhost:8080/"
        },
        "id": "10DOQpD7-jlD",
        "outputId": "da578230-71ae-4101-8a97-b83727523ded"
      },
      "execution_count": 32,
      "outputs": [
        {
          "output_type": "stream",
          "name": "stdout",
          "text": [
            "oneway way ANOVA Results:\n",
            "  Source  ddof1  ddof2         F     p-unc       np2\n",
            "0  Month     11    116  1.110527  0.359359  0.095275\n",
            "------------------------------------------------------------\n",
            "F-statistic: 1.1105\n",
            "p-value: 0.359359\n",
            "------------------------------------------------------------\n",
            "p-value (0.359359) ≥ α (0.05),The null hypothesis (Ho) is not rejected.\n"
          ]
        }
      ]
    },
    {
      "cell_type": "code",
      "source": [
        "grp_month = df_month.groupby('Month')['Monthly_Continuous_Return'].mean()*100\n",
        "print(grp_month[['January','February','March', 'April','May','June','July','August','September','October','November','December']])"
      ],
      "metadata": {
        "colab": {
          "base_uri": "https://localhost:8080/"
        },
        "id": "tV2HQnMOE9DS",
        "outputId": "21b27202-768a-4a50-b3c8-09828aee33a7"
      },
      "execution_count": 33,
      "outputs": [
        {
          "output_type": "stream",
          "name": "stdout",
          "text": [
            "Month\n",
            "January      4.486714\n",
            "February    -0.577258\n",
            "March       -2.255233\n",
            "April        2.222791\n",
            "May          0.265743\n",
            "June         2.820928\n",
            "July         4.102846\n",
            "August       1.340776\n",
            "September    0.776913\n",
            "October      0.786794\n",
            "November     6.488440\n",
            "December     3.579793\n",
            "Name: Monthly_Continuous_Return, dtype: float64\n"
          ]
        }
      ]
    },
    {
      "cell_type": "markdown",
      "source": [
        "#### Conclusion\n",
        "Assumption checks for the monthly data revealed that the normality assumption was violated only for July (p = 0.0339). However, the homogeneity of variances assumption was satisfied (p = 0.3776), as determined by Levene's test. Given that the variances were equal and the normality violation was minor, standard ANOVA was employed as it demonstrates robustness to modest deviations from normality assumptions.\n",
        "\n",
        "The p-value of 0.359359 was obtained from the standard ANOVA results, which substantially exceeds the 0.05 significance level. Consequently, the null hypothesis was not rejected. This indicates an absence of Month-of-the-Year Effect patterns in BIST100 returns during 2015-2025."
      ],
      "metadata": {
        "id": "3weQSh1zv73-"
      }
    },
    {
      "cell_type": "markdown",
      "source": [
        "## Conclusion\n",
        "\n",
        "### **Day-of-the-Week Effect**\n",
        "**Statistical Significance:** Welch's ANOVA detected significant differences across weekdays (F = 3.2664, p = 0.011219).\n",
        "Post-hoc analyses revealed this effect was driven exclusively by the **Thursday-Wednesday** comparison (Games-Howell p = 0.009568, Tamhane's T2 p = 0.005418).\n",
        "\n",
        "\n",
        "**Practical Significance:** Despite statistical detection, the effect size (η² = 0.0048) indicates the day-of-the-week-effect patterns explain less than 0.5% of return variance.\n",
        "\n",
        "\n",
        "### **Month-of-the-Year Effect**\n",
        "**No Statistical Evidence:** Standard ANOVA found no significant differences across calendar months (F = 1.1105, p = 0.359359). This result indicates an absence of a month-of-the-year effect in BIST100 returns during the 2015-2025 period.\n",
        "\n",
        "### **Overall Assessment**\n",
        "These findings contribute to the broader literature on market efficiency and calendar anomalies in emerging markets. The minimal explanatory power of detected day-of-the-week effects, combined with the complete absence of monthly patterns, suggests that calendar anomaly patterns are either non-existent or too small for meaningful exploitation in the BIST100 returns during 2015-2025."
      ],
      "metadata": {
        "id": "A_hf7AX2AQjV"
      }
    },
    {
      "cell_type": "markdown",
      "source": [
        "## Disclaimer\n",
        "\n",
        "This analysis is for academic and informational purposes only. This analysis is for academic and informational purposes only. It does not constitute or intend to provide financial or investment advice."
      ],
      "metadata": {
        "id": "0fihYpUwF4rP"
      }
    }
  ]
}